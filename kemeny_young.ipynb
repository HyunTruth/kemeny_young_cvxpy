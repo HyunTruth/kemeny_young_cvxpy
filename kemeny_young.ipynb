{
 "cells": [
  {
   "cell_type": "code",
   "execution_count": 1,
   "metadata": {},
   "outputs": [],
   "source": [
    "import numpy as np\n",
    "import cvxpy as cp\n",
    "from itertools import combinations, permutations"
   ]
  },
  {
   "cell_type": "code",
   "execution_count": 2,
   "metadata": {},
   "outputs": [],
   "source": [
    "def build_weight_graph(rank_matrix):\n",
    "    num_voters, num_candidates = rank_matrix.shape\n",
    "\n",
    "    # initialize matrix w for weight graph\n",
    "    w = np.zeros((num_candidates, num_candidates))\n",
    "    for a, b in combinations(range(num_candidates), 2):\n",
    "        prefer = rank_matrix[:, a] - rank_matrix[:, b]\n",
    "\n",
    "        # preferring a to b\n",
    "        h_ab = np.sum(prefer < 0)\n",
    "\n",
    "        # preferring b to a\n",
    "        h_ba = np.sum(prefer > 0)\n",
    "\n",
    "        # if h_ab > h_ba, draw edge with w_ab\n",
    "        if h_ab > h_ba:\n",
    "            w[a, b] = h_ab - h_ba\n",
    "        # if h_ba > h_ab, draw edge with w_ba\n",
    "        elif h_ba > h_ab:\n",
    "            w[b, a] = h_ba - h_ab\n",
    "\n",
    "    return w"
   ]
  },
  {
   "cell_type": "code",
   "execution_count": 3,
   "metadata": {},
   "outputs": [],
   "source": [
    "def kenemy_young(rank_matrix):\n",
    "    w = build_weight_graph(rank_matrix)\n",
    "    num_candidates = w.shape[0]\n",
    "    # x cannot be negative (no negative rank!)\n",
    "    x = cp.Variable(w.shape, nonneg=True)\n",
    "\n",
    "    # objective function of min sum_e(w_e*x_e) in a matrix multiplication form\n",
    "    obj = cp.Minimize(cp.sum(w.T*x))\n",
    "    constraints = []\n",
    "\n",
    "    # pairwise constraints, so that x_ab + x_ba = 1 for all distinct a,b pair in our candidates\n",
    "    for comb in combinations(range(num_candidates), 2):\n",
    "        a, b = comb\n",
    "        constraints.append(x[a, b] + x[b, a] == 1)\n",
    "\n",
    "    # triangular constraints, so that x_ab + x_bc + x_ca >= 1 for all distinct a,b,c in our candidates\n",
    "    for perm in permutations(range(num_candidates), 3):\n",
    "        a, b, c = perm\n",
    "        constraints.append(x[a, b] + x[b, c] + x[c, a] >= 1)\n",
    "    \n",
    "    # state problem\n",
    "    prob = cp.Problem(obj, constraints)\n",
    "    \n",
    "    # Returns the optimal value.\n",
    "    prob.solve() \n",
    "    print(\"status:\", prob.status)\n",
    "    print(\"optimal value\", prob.value)\n",
    "    \n",
    "    # recast into an integer\n",
    "    x_val = np.round((x.value))\n",
    "    \n",
    "    # columnar sum into total rank\n",
    "    agg_rank = x_val.sum(axis=1)\n",
    "    \n",
    "    # move the starting index from 0 -> 1\n",
    "    agg_rank += 1\n",
    "    \n",
    "    return agg_rank"
   ]
  },
  {
   "cell_type": "markdown",
   "metadata": {},
   "source": [
    "Use numpy matrix or numpy array, with each row as each voter's rank choice"
   ]
  },
  {
   "cell_type": "code",
   "execution_count": 10,
   "metadata": {},
   "outputs": [],
   "source": [
    "example_arr = np.array([[0, 1, 2, 3, 4],\n",
    "                        [0, 1, 3, 2, 4],\n",
    "                        [4, 1, 2, 0, 3],\n",
    "                        [4, 1, 0, 2, 3],\n",
    "                        [4, 1, 3, 2, 0],\n",
    "                        [4, 1, 3, 2, 0]])"
   ]
  },
  {
   "cell_type": "code",
   "execution_count": 11,
   "metadata": {},
   "outputs": [
    {
     "name": "stdout",
     "output_type": "stream",
     "text": [
      "status: optimal\n",
      "optimal value 19.994775493811623\n"
     ]
    },
    {
     "data": {
      "text/plain": [
       "array([5., 1., 3., 2., 4.])"
      ]
     },
     "execution_count": 11,
     "metadata": {},
     "output_type": "execute_result"
    }
   ],
   "source": [
    "kenemy_young(example_arr)"
   ]
  },
  {
   "cell_type": "code",
   "execution_count": 12,
   "metadata": {},
   "outputs": [],
   "source": [
    "example_mat = np.matrix(example_arr)"
   ]
  },
  {
   "cell_type": "code",
   "execution_count": 14,
   "metadata": {},
   "outputs": [
    {
     "name": "stdout",
     "output_type": "stream",
     "text": [
      "[[0 1 2 3 4]\n",
      " [0 1 3 2 4]\n",
      " [4 1 2 0 3]\n",
      " [4 1 0 2 3]\n",
      " [4 1 3 2 0]\n",
      " [4 1 3 2 0]]\n"
     ]
    }
   ],
   "source": [
    "print(example_mat)"
   ]
  },
  {
   "cell_type": "code",
   "execution_count": 13,
   "metadata": {},
   "outputs": [
    {
     "name": "stdout",
     "output_type": "stream",
     "text": [
      "status: optimal\n",
      "optimal value 19.994775493811623\n"
     ]
    },
    {
     "data": {
      "text/plain": [
       "array([5., 1., 3., 2., 4.])"
      ]
     },
     "execution_count": 13,
     "metadata": {},
     "output_type": "execute_result"
    }
   ],
   "source": [
    "kenemy_young(example_mat)"
   ]
  }
 ],
 "metadata": {
  "jupytext": {
   "formats": "ipynb,py:light"
  },
  "kernelspec": {
   "display_name": "Python 3",
   "language": "python",
   "name": "python3"
  },
  "language_info": {
   "codemirror_mode": {
    "name": "ipython",
    "version": 3
   },
   "file_extension": ".py",
   "mimetype": "text/x-python",
   "name": "python",
   "nbconvert_exporter": "python",
   "pygments_lexer": "ipython3",
   "version": "3.5.2"
  }
 },
 "nbformat": 4,
 "nbformat_minor": 2
}
